{
  "nbformat": 4,
  "nbformat_minor": 0,
  "metadata": {
    "colab": {
      "name": "LinearRegression.ipynb",
      "provenance": [],
      "collapsed_sections": []
    },
    "kernelspec": {
      "name": "python3",
      "display_name": "Python 3"
    },
    "language_info": {
      "name": "python"
    }
  },
  "cells": [
    {
      "cell_type": "code",
      "metadata": {
        "id": "RloJeHHmHG_o"
      },
      "source": [
        "import numpy as np\n",
        "import pandas as pd\n",
        "import matplotlib.pyplot as plt"
      ],
      "execution_count": null,
      "outputs": []
    },
    {
      "cell_type": "code",
      "metadata": {
        "id": "_L-jAGWklkx0"
      },
      "source": [
        "#Ex2:"
      ],
      "execution_count": null,
      "outputs": []
    },
    {
      "cell_type": "code",
      "metadata": {
        "colab": {
          "base_uri": "https://localhost:8080/"
        },
        "id": "dIXaSVoCHnHC",
        "outputId": "41462ef8-4eb6-43c3-8e90-3f4814d32652"
      },
      "source": [
        "X = np.array([[30,32.4138,34.8276,37.2414,39.6552,42.069,44.4828,46.8966,49.3103,51.7241,54.1379,56.5517,58.9655,61.3793,63.7931,66.2069,68.6207,71.0345,73.4483,75.8621,78.2759,80.6897,83.1034,85.5172,87.931,90.3448,92.7586,95.1724,97.5862,100]]).T\n",
        "X.shape"
      ],
      "execution_count": null,
      "outputs": [
        {
          "output_type": "execute_result",
          "data": {
            "text/plain": [
              "(30, 1)"
            ]
          },
          "metadata": {},
          "execution_count": 29
        }
      ]
    },
    {
      "cell_type": "code",
      "metadata": {
        "id": "RkIK_EI7LzwL"
      },
      "source": [
        "y = np.array([[448.524,509.248,535.104,551.432,623.418,625.992,655.248,701.377,748.918,757.881,831.004,855.409,866.707,902.545,952.261,995.531,1069.78,1074.42,1103.88,1138.69,1153.13,1240.27,1251.9,1287.97,1320.47,1374.92,\t1410.16,\t1469.69,1478.54,1515.28]]).T"
      ],
      "execution_count": null,
      "outputs": []
    },
    {
      "cell_type": "code",
      "metadata": {
        "colab": {
          "base_uri": "https://localhost:8080/",
          "height": 279
        },
        "id": "WLwchHoUMgDz",
        "outputId": "525b3a3b-74c4-4ae0-8dad-fbfa7fc84446"
      },
      "source": [
        "plt.plot(X, y, 'ro')\n",
        "plt.xlabel('Dien tich')\n",
        "plt.ylabel('Gia tien')\n",
        "plt.show()"
      ],
      "execution_count": null,
      "outputs": [
        {
          "output_type": "display_data",
          "data": {
            "image/png": "[encoded data removed]",
            "text/plain": [
              "<Figure size 432x288 with 1 Axes>"
            ]
          },
          "metadata": {
            "needs_background": "light"
          }
        }
      ]
    },
    {
      "cell_type": "code",
      "metadata": {
        "colab": {
          "base_uri": "https://localhost:8080/",
          "height": 313
        },
        "id": "-LXwcI_NNf2C",
        "outputId": "6504ec72-2845-45d9-a877-0582b040060c"
      },
      "source": [
        "one = np.ones((X.shape[0], 1))\n",
        "Xbar = np.concatenate((one, X), axis = 1)\n",
        "A = np.dot(Xbar.T, Xbar)\n",
        "b = np.dot(Xbar.T, y)\n",
        "w = np.dot(np.linalg.pinv(A), b)\n",
        "print('w = ', w)\n",
        "w_0 = w[0][0]\n",
        "w_1 = w[1][0]\n",
        "x0 = np.linspace(30,100,2) \n",
        "y0 = w_0 + w_1*x0\n",
        "plt.plot(X.T, y.T, 'ro')\n",
        "plt.plot(x0, y0)  \n",
        "plt.xlabel('Dien tich')\n",
        "plt.ylabel('Gia tien')\n",
        "plt.show()\n"
      ],
      "execution_count": null,
      "outputs": [
        {
          "output_type": "stream",
          "name": "stdout",
          "text": [
            "w =  [[-7.06426865]\n",
            " [15.2110908 ]]\n"
          ]
        },
        {
          "output_type": "display_data",
          "data": {
            "image/png": "[encoded data removed]",
            "text/plain": [
              "<Figure size 432x288 with 1 Axes>"
            ]
          },
          "metadata": {
            "needs_background": "light"
          }
        }
      ]
    },
    {
      "cell_type": "code",
      "metadata": {
        "colab": {
          "base_uri": "https://localhost:8080/"
        },
        "id": "tmG_xQKqnfMt",
        "outputId": "7804dbc2-0206-4def-ab13-8d01872897e9"
      },
      "source": [
        "#With x = 50\n",
        "print(\"With x = 50 , y = \", w_0 +w_1*50)\n",
        "#With x = 100\n",
        "print(\"With x = 100 , y = \", w_0 +w_1*100)\n",
        "#With x = 150\n",
        "print(\"With x = 150 , y = \", w_0 +w_1*150)"
      ],
      "execution_count": null,
      "outputs": [
        {
          "output_type": "stream",
          "name": "stdout",
          "text": [
            "With x = 50 , y =  753.4902713382884\n",
            "With x = 100 , y =  1514.0448113217797\n",
            "With x = 150 , y =  2274.599351305271\n"
          ]
        }
      ]
    },
    {
      "cell_type": "code",
      "metadata": {
        "id": "vcyozJuVlh34"
      },
      "source": [
        "#Ex3:"
      ],
      "execution_count": null,
      "outputs": []
    },
    {
      "cell_type": "code",
      "metadata": {
        "colab": {
          "base_uri": "https://localhost:8080/",
          "height": 206
        },
        "id": "1gp_3_BBlqa_",
        "outputId": "fe036076-8d97-451c-8555-35083bfcbdb6"
      },
      "source": [
        "column_names = ['CRIM', 'ZN', 'INDUS', 'CHAS', 'NOX', 'RM', 'AGE', 'DIS', 'RAD', 'TAX', 'PTRATIO', 'B', 'LSTAT', 'MEDV']\n",
        "data = pd.read_csv('housing.csv', header=None, delimiter=r\"\\s+\", names=column_names)\n",
        "data.head()"
      ],
      "execution_count": null,
      "outputs": [
        {
          "output_type": "execute_result",
          "data": {
            "text/html": [
              "<div>\n",
              "<style scoped>\n",
              "    .dataframe tbody tr th:only-of-type {\n",
              "        vertical-align: middle;\n",
              "    }\n",
              "\n",
              "    .dataframe tbody tr th {\n",
              "        vertical-align: top;\n",
              "    }\n",
              "\n",
              "    .dataframe thead th {\n",
              "        text-align: right;\n",
              "    }\n",
              "</style>\n",
              "<table border=\"1\" class=\"dataframe\">\n",
              "  <thead>\n",
              "    <tr style=\"text-align: right;\">\n",
              "      <th></th>\n",
              "      <th>CRIM</th>\n",
              "      <th>ZN</th>\n",
              "      <th>INDUS</th>\n",
              "      <th>CHAS</th>\n",
              "      <th>NOX</th>\n",
              "      <th>RM</th>\n",
              "      <th>AGE</th>\n",
              "      <th>DIS</th>\n",
              "      <th>RAD</th>\n",
              "      <th>TAX</th>\n",
              "      <th>PTRATIO</th>\n",
              "      <th>B</th>\n",
              "      <th>LSTAT</th>\n",
              "      <th>MEDV</th>\n",
              "    </tr>\n",
              "  </thead>\n",
              "  <tbody>\n",
              "    <tr>\n",
              "      <th>0</th>\n",
              "      <td>0.00632</td>\n",
              "      <td>18.0</td>\n",
              "      <td>2.31</td>\n",
              "      <td>0</td>\n",
              "      <td>0.538</td>\n",
              "      <td>6.575</td>\n",
              "      <td>65.2</td>\n",
              "      <td>4.0900</td>\n",
              "      <td>1</td>\n",
              "      <td>296.0</td>\n",
              "      <td>15.3</td>\n",
              "      <td>396.90</td>\n",
              "      <td>4.98</td>\n",
              "      <td>24.0</td>\n",
              "    </tr>\n",
              "    <tr>\n",
              "      <th>1</th>\n",
              "      <td>0.02731</td>\n",
              "      <td>0.0</td>\n",
              "      <td>7.07</td>\n",
              "      <td>0</td>\n",
              "      <td>0.469</td>\n",
              "      <td>6.421</td>\n",
              "      <td>78.9</td>\n",
              "      <td>4.9671</td>\n",
              "      <td>2</td>\n",
              "      <td>242.0</td>\n",
              "      <td>17.8</td>\n",
              "      <td>396.90</td>\n",
              "      <td>9.14</td>\n",
              "      <td>21.6</td>\n",
              "    </tr>\n",
              "    <tr>\n",
              "      <th>2</th>\n",
              "      <td>0.02729</td>\n",
              "      <td>0.0</td>\n",
              "      <td>7.07</td>\n",
              "      <td>0</td>\n",
              "      <td>0.469</td>\n",
              "      <td>7.185</td>\n",
              "      <td>61.1</td>\n",
              "      <td>4.9671</td>\n",
              "      <td>2</td>\n",
              "      <td>242.0</td>\n",
              "      <td>17.8</td>\n",
              "      <td>392.83</td>\n",
              "      <td>4.03</td>\n",
              "      <td>34.7</td>\n",
              "    </tr>\n",
              "    <tr>\n",
              "      <th>3</th>\n",
              "      <td>0.03237</td>\n",
              "      <td>0.0</td>\n",
              "      <td>2.18</td>\n",
              "      <td>0</td>\n",
              "      <td>0.458</td>\n",
              "      <td>6.998</td>\n",
              "      <td>45.8</td>\n",
              "      <td>6.0622</td>\n",
              "      <td>3</td>\n",
              "      <td>222.0</td>\n",
              "      <td>18.7</td>\n",
              "      <td>394.63</td>\n",
              "      <td>2.94</td>\n",
              "      <td>33.4</td>\n",
              "    </tr>\n",
              "    <tr>\n",
              "      <th>4</th>\n",
              "      <td>0.06905</td>\n",
              "      <td>0.0</td>\n",
              "      <td>2.18</td>\n",
              "      <td>0</td>\n",
              "      <td>0.458</td>\n",
              "      <td>7.147</td>\n",
              "      <td>54.2</td>\n",
              "      <td>6.0622</td>\n",
              "      <td>3</td>\n",
              "      <td>222.0</td>\n",
              "      <td>18.7</td>\n",
              "      <td>396.90</td>\n",
              "      <td>5.33</td>\n",
              "      <td>36.2</td>\n",
              "    </tr>\n",
              "  </tbody>\n",
              "</table>\n",
              "</div>"
            ],
            "text/plain": [
              "      CRIM    ZN  INDUS  CHAS    NOX  ...    TAX  PTRATIO       B  LSTAT  MEDV\n",
              "0  0.00632  18.0   2.31     0  0.538  ...  296.0     15.3  396.90   4.98  24.0\n",
              "1  0.02731   0.0   7.07     0  0.469  ...  242.0     17.8  396.90   9.14  21.6\n",
              "2  0.02729   0.0   7.07     0  0.469  ...  242.0     17.8  392.83   4.03  34.7\n",
              "3  0.03237   0.0   2.18     0  0.458  ...  222.0     18.7  394.63   2.94  33.4\n",
              "4  0.06905   0.0   2.18     0  0.458  ...  222.0     18.7  396.90   5.33  36.2\n",
              "\n",
              "[5 rows x 14 columns]"
            ]
          },
          "metadata": {},
          "execution_count": 34
        }
      ]
    },
    {
      "cell_type": "code",
      "metadata": {
        "id": "Ra9lk2l7nX8e"
      },
      "source": [
        "x_1 = np.array([data.CRIM]).T\n",
        "x_2 = np.array([data.ZN]).T\n",
        "x_3 = np.array([data.INDUS]).T\n",
        "x_4 = np.array([data.CHAS]).T\n",
        "x_5 = np.array([data.NOX]).T\n",
        "x_6 = np.array([data.RM]).T\n",
        "x_7 = np.array([data.AGE]).T\n",
        "x_8 = np.array([data.DIS]).T\n",
        "x_9 = np.array([data.RAD]).T\n",
        "x_10 = np.array([data.TAX]).T\n",
        "x_11 = np.array([data.PTRATIO]).T\n",
        "x_12 = np.array([data.B]).T\n",
        "x_13 = np.array([data.LSTAT]).T"
      ],
      "execution_count": null,
      "outputs": []
    },
    {
      "cell_type": "code",
      "metadata": {
        "colab": {
          "base_uri": "https://localhost:8080/"
        },
        "id": "AjxNJ4xNq4uM",
        "outputId": "89bb743a-cb27-4bb1-a193-3d0a0c6e2d9c"
      },
      "source": [
        "y = np.array([data.MEDV]).T\n",
        "y.shape"
      ],
      "execution_count": null,
      "outputs": [
        {
          "output_type": "execute_result",
          "data": {
            "text/plain": [
              "(506, 1)"
            ]
          },
          "metadata": {},
          "execution_count": 36
        }
      ]
    },
    {
      "cell_type": "code",
      "metadata": {
        "colab": {
          "base_uri": "https://localhost:8080/"
        },
        "id": "nFCrq_iXtzJJ",
        "outputId": "f2d8e663-f72d-4300-e6dc-c75d3fdc66e3"
      },
      "source": [
        "one = np.ones((x_11.shape[0], 1))\n",
        "Xbar = np.concatenate((one, x_1,x_2,x_3,x_4,x_5,x_6,x_7,x_8,x_9,x_10,x_11,x_12,x_13), axis = 1)\n",
        "Xbar.shape"
      ],
      "execution_count": null,
      "outputs": [
        {
          "output_type": "execute_result",
          "data": {
            "text/plain": [
              "(506, 14)"
            ]
          },
          "metadata": {},
          "execution_count": 37
        }
      ]
    },
    {
      "cell_type": "code",
      "metadata": {
        "colab": {
          "base_uri": "https://localhost:8080/"
        },
        "id": "XGHtmbeu0S5j",
        "outputId": "22f4a0fe-fcb5-49e2-92e4-c2d642df22e6"
      },
      "source": [
        "A = np.dot(Xbar.T, Xbar)\n",
        "b = np.dot(Xbar.T, y)\n",
        "w = np.dot(np.linalg.pinv(A), b)\n",
        "print(w)\n"
      ],
      "execution_count": null,
      "outputs": [
        {
          "output_type": "stream",
          "name": "stdout",
          "text": [
            "[[ 3.64594884e+01]\n",
            " [-1.08011358e-01]\n",
            " [ 4.64204584e-02]\n",
            " [ 2.05586264e-02]\n",
            " [ 2.68673382e+00]\n",
            " [-1.77666112e+01]\n",
            " [ 3.80986521e+00]\n",
            " [ 6.92224641e-04]\n",
            " [-1.47556685e+00]\n",
            " [ 3.06049479e-01]\n",
            " [-1.23345939e-02]\n",
            " [-9.52747232e-01]\n",
            " [ 9.31168327e-03]\n",
            " [-5.24758378e-01]]\n"
          ]
        }
      ]
    },
    {
      "cell_type": "code",
      "metadata": {
        "id": "eQZinUKwFLx4"
      },
      "source": [
        "# => Model is : 36.45 - 0,108x_1 + 0.0464x_2 + 0.0205x_3 + 2.686x_4 - 17.7x_5 + 3.809x_6 + 0.00692x_7 - 1.475x_8 + 0.3x_9 - 0.012x_10 - 0.952x_11 + 0.0093x_12 - 0.5247x_13 "
      ],
      "execution_count": null,
      "outputs": []
    }
  ]
}